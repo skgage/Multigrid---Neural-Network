{
 "cells": [
  {
   "cell_type": "markdown",
   "metadata": {},
   "source": [
    "# Multigrid as a Neural Network\n",
    "\n"
   ]
  },
  {
   "cell_type": "code",
   "execution_count": 1,
   "metadata": {},
   "outputs": [
    {
     "data": {
      "text/plain": [
       "array([[ 2., -1.,  0., -1.],\n",
       "       [-1.,  2., -1.,  0.],\n",
       "       [ 0., -1.,  2., -1.],\n",
       "       [-1.,  0., -1.,  2.]])"
      ]
     },
     "execution_count": 1,
     "metadata": {},
     "output_type": "execute_result"
    }
   ],
   "source": [
    "%matplotlib inline\n",
    "import numpy\n",
    "from matplotlib import pyplot\n",
    "pyplot.style.use('ggplot')\n",
    "\n",
    "def Laplacian(n, stencil=[-1, 2, -1], periodic=True):\n",
    "    A = stencil[1] * numpy.eye(n) + stencil[2] * numpy.eye(n, k=1) + stencil[0] * numpy.eye(n, k=-1)\n",
    "    if periodic:\n",
    "        A[0,-1] = stencil[0]\n",
    "        A[-1,0] = stencil[2]\n",
    "    return A\n",
    "\n",
    "Laplacian(4)"
   ]
  },
  {
   "cell_type": "code",
   "execution_count": 2,
   "metadata": {
    "scrolled": true
   },
   "outputs": [
    {
     "data": {
      "text/plain": [
       "(array([[ 1. ,  0. ,  0. ],\n",
       "        [ 0.5,  0.5, -0. ],\n",
       "        [ 0. ,  1. ,  0. ],\n",
       "        [-0. ,  0.5,  0.5],\n",
       "        [ 0. ,  0. ,  1. ],\n",
       "        [ 0.5, -0. ,  0.5]]), array([[ 1. ,  0.5,  0. , -0. ,  0. ,  0.5],\n",
       "        [ 0. ,  0.5,  1. ,  0.5,  0. , -0. ],\n",
       "        [ 0. , -0. ,  0. ,  0.5,  1. ,  0.5]]))"
      ]
     },
     "execution_count": 2,
     "metadata": {},
     "output_type": "execute_result"
    }
   ],
   "source": [
    "def Interpolation(A):\n",
    "    \"\"\"Interpolation using the exact construction.\n",
    "    This maintains sparsity in 1D, but the approach will not in higher dimensions.\n",
    "    \"\"\"\n",
    "    Aff = A[1::2, 1::2]\n",
    "    Afc = A[1::2, 0::2]\n",
    "    Acf = A[0::2, 1::2]\n",
    "    nf, nc = Afc.shape\n",
    "    P = numpy.zeros((nf+nc, nc))\n",
    "    P[::2] = numpy.eye(nc)\n",
    "    # Aff is diagonal in our examples so this solve is trivial\n",
    "    P[1::2] = -numpy.linalg.solve(Aff, Afc)\n",
    "    R = numpy.zeros((nc, nf+nc))\n",
    "    R[:,::2] = numpy.eye(nc)\n",
    "    R[:,1::2] = -numpy.linalg.solve(Aff, Acf.T).T\n",
    "    return P, R\n",
    "\n",
    "A = Laplacian(6, periodic=True)\n",
    "Interpolation(A)"
   ]
  },
  {
   "cell_type": "code",
   "execution_count": 3,
   "metadata": {},
   "outputs": [
    {
     "name": "stdout",
     "output_type": "stream",
     "text": [
      "0: |e2|=2.482534e-16 |e3|=2.203031e-16\n",
      "1: |e2|=2.063081e-16 |e3|=3.388000e-16\n",
      "2: |e2|=1.861901e-16 |e3|=1.867065e-16\n",
      "3: |e2|=2.435542e-16 |e3|=2.579785e-16\n",
      "4: |e2|=5.003708e-17 |e3|=3.804113e-17\n"
     ]
    }
   ],
   "source": [
    "def randmean0(shape):\n",
    "    x = numpy.random.rand(shape)\n",
    "    return x - numpy.mean(x)\n",
    "\n",
    "def Additive2Level(A):\n",
    "    P, R = Interpolation(A)\n",
    "    Ac = R @ A @ P\n",
    "    # Use pseudo-inverse because of the null space for periodic.\n",
    "    # We will replace with a recursive call below.\n",
    "    Acinv = numpy.linalg.pinv(Ac)\n",
    "    D = 1/A.diagonal()\n",
    "    D[::2] = 0\n",
    "    def apply(b):\n",
    "        return P @ Acinv @ R @ b + D * b\n",
    "    return apply\n",
    "\n",
    "def Test(A, ntests=1, MG=Additive2Level, **kwargs):\n",
    "    apply = MG(A, **kwargs)\n",
    "    for i in range(ntests):\n",
    "        x = randmean0(len(A))\n",
    "        b = A @ x\n",
    "        x2 = apply(b)\n",
    "        # This projection is needed in the periodic case\n",
    "        x3 = x2 - numpy.mean(x2)\n",
    "        print('{}: |e2|={:8e} |e3|={:8e}'.format(i,\n",
    "                                                 numpy.linalg.norm(x2 - x), \n",
    "                                                 numpy.linalg.norm(x3 - x)))\n",
    "\n",
    "A = Laplacian(5, periodic=False)\n",
    "Test(A, ntests=5)"
   ]
  },
  {
   "cell_type": "code",
   "execution_count": 4,
   "metadata": {},
   "outputs": [
    {
     "name": "stdout",
     "output_type": "stream",
     "text": [
      "0: |e2|=2.718043e-01 |e3|=1.841097e-16\n",
      "1: |e2|=1.720519e-01 |e3|=1.056901e-16\n",
      "2: |e2|=2.702989e-01 |e3|=8.777084e-17\n",
      "3: |e2|=7.737069e-02 |e3|=3.925231e-17\n",
      "4: |e2|=2.713458e-01 |e3|=7.076311e-17\n"
     ]
    }
   ],
   "source": [
    "A = Laplacian(5, periodic=True)\n",
    "Test(A, ntests=5)"
   ]
  },
  {
   "cell_type": "code",
   "execution_count": 5,
   "metadata": {},
   "outputs": [
    {
     "name": "stdout",
     "output_type": "stream",
     "text": [
      "Level 5 size 33\n",
      "Level 4 size 17\n",
      "Level 3 size 9\n",
      "Level 2 size 5\n",
      "Level 1 size 3\n",
      "Level 0 size 2\n",
      "0: |e2|=1.445690e-15 |e3|=1.445819e-15\n"
     ]
    }
   ],
   "source": [
    "def AdditiveMG(A, level, verbose=False):\n",
    "    print('Level {} size {}'.format(level, len(A)))\n",
    "    if level == 0:\n",
    "        def apply(b):\n",
    "            return numpy.linalg.pinv(A) @ b\n",
    "        return apply\n",
    "    P, R = Interpolation(A)\n",
    "    Ac = R @ A @ P\n",
    "    Acinv = AdditiveMG(Ac, level-1)\n",
    "    D = 1/A.diagonal()\n",
    "    D[::2] = 0\n",
    "    def apply(b):\n",
    "        y = P @ Acinv(R @ b) + D * b\n",
    "        return y - numpy.mean(y)\n",
    "    return apply\n",
    "\n",
    "A = Laplacian(33, periodic=False)\n",
    "Test(A, MG=AdditiveMG, level=5, verbose=True)"
   ]
  },
  {
   "cell_type": "code",
   "execution_count": 6,
   "metadata": {
    "scrolled": true
   },
   "outputs": [
    {
     "name": "stdout",
     "output_type": "stream",
     "text": [
      "Level 5 size 32\n",
      "Level 4 size 16\n",
      "Level 3 size 8\n",
      "Level 2 size 4\n",
      "Level 1 size 2\n",
      "Level 0 size 1\n",
      "0: |e2|=1.152953e-15 |e3|=1.157631e-15\n"
     ]
    }
   ],
   "source": [
    "A = Laplacian(32, periodic=True)\n",
    "Test(A, MG=AdditiveMG, level=5, verbose=True)"
   ]
  },
  {
   "cell_type": "code",
   "execution_count": 7,
   "metadata": {},
   "outputs": [
    {
     "name": "stdout",
     "output_type": "stream",
     "text": [
      "Level 5 size 32\n",
      "Level 4 size 16\n",
      "Level 3 size 8\n",
      "Level 2 size 4\n",
      "Level 1 size 2\n",
      "Level 0 size 1\n",
      "0: |e2|=3.671718e-17 |e3|=1.169363e-16\n"
     ]
    }
   ],
   "source": [
    "# This tests the non-symmetric case, here with\n",
    "# advection-diffusion discretized using a centered difference.\n",
    "A = Laplacian(32, stencil=[-2, 2, 0], periodic=True)\n",
    "Test(A, MG=AdditiveMG, level=5, verbose=True)"
   ]
  },
  {
   "cell_type": "markdown",
   "metadata": {},
   "source": [
    "## Towards neural networks\n",
    "\n",
    "We would like to use data $(x, b=Ax)$ to train an interpolation operator $P$ and restriction $R$ for this multigrid method."
   ]
  }
 ],
 "metadata": {
  "kernelspec": {
   "display_name": "Python 3",
   "language": "python",
   "name": "python3"
  },
  "language_info": {
   "codemirror_mode": {
    "name": "ipython",
    "version": 3
   },
   "file_extension": ".py",
   "mimetype": "text/x-python",
   "name": "python",
   "nbconvert_exporter": "python",
   "pygments_lexer": "ipython3",
   "version": "3.6.3"
  }
 },
 "nbformat": 4,
 "nbformat_minor": 2
}
